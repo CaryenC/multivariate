{
  "nbformat": 4,
  "nbformat_minor": 0,
  "metadata": {
    "colab": {
      "name": "multivariate.ipynb",
      "provenance": [],
      "collapsed_sections": [
        "wUUz1VSS2Pab",
        "StkXjxlH2WLy",
        "zzCxMBaq2GH8",
        "56EPxQVy97YA",
        "tXtxCwl_3rFs",
        "w0_-mc7n4PlB",
        "EaoQhMPM43fP",
        "BP3l0p7e6lla",
        "z0T8DDDy8cV7"
      ]
    },
    "kernelspec": {
      "name": "python3",
      "display_name": "Python 3"
    },
    "language_info": {
      "name": "python"
    }
  },
  "cells": [
    {
      "cell_type": "markdown",
      "metadata": {
        "id": "xyRQc81D9b2A"
      },
      "source": [
        "# Not-just-1D-2D Graph Visualization"
      ]
    },
    {
      "cell_type": "markdown",
      "metadata": {
        "id": "wUUz1VSS2Pab"
      },
      "source": [
        "## 1. Import libraries"
      ]
    },
    {
      "cell_type": "code",
      "metadata": {
        "id": "laqsOiz90rHJ"
      },
      "source": [
        "import pandas as pd\n",
        "import matplotlib.pyplot as plt\n",
        "from mpl_toolkits.mplot3d import Axes3D\n",
        "import matplotlib as mpl\n",
        "import numpy as np\n",
        "import seaborn as sns\n",
        "%matplotlib inline"
      ],
      "execution_count": 1,
      "outputs": []
    },
    {
      "cell_type": "markdown",
      "metadata": {
        "id": "StkXjxlH2WLy"
      },
      "source": [
        "## 2. Read, Transform, Display some data"
      ]
    },
    {
      "cell_type": "code",
      "metadata": {
        "id": "j1tdt9bC09pT"
      },
      "source": [
        "red_wine = pd.read_csv('/winequality-red.csv', sep=';')\n",
        "white_wine = pd.read_csv('/winequality-white.csv', sep=';')\n",
        "\n",
        "# store wine type as an attribute\n",
        "red_wine['wine_type'] = 'red'\n",
        "white_wine['wine_type'] = 'white'\n",
        "\n",
        "# bucket wine quality scores into qualitative quality labels\n",
        "red_wine['quality_label'] = red_wine['quality'].apply(lambda value: 'low' \n",
        "                                                          if value <= 5 else 'medium' \n",
        "                                                              if value <= 7 else 'high')\n",
        "red_wine['quality_label'] = pd.Categorical(red_wine['quality_label'], \n",
        "                                           categories=['low', 'medium', 'high'])\n",
        "white_wine['quality_label'] = white_wine['quality'].apply(lambda value: 'low' \n",
        "                                                              if value <= 5 else 'medium' \n",
        "                                                                  if value <= 7 else 'high')\n",
        "white_wine['quality_label'] = pd.Categorical(white_wine['quality_label'], \n",
        "                                             categories=['low', 'medium', 'high'])\n",
        "\n",
        "# merge red and white wine datasets\n",
        "wines = pd.concat([red_wine, white_wine])\n",
        "\n",
        "# re-shuffle records just to randomize data points\n",
        "wines = wines.sample(frac=1, random_state=42).reset_index(drop=True)"
      ],
      "execution_count": 2,
      "outputs": []
    },
    {
      "cell_type": "code",
      "metadata": {
        "colab": {
          "base_uri": "https://localhost:8080/",
          "height": 221
        },
        "id": "ZxATFnLI152U",
        "outputId": "a1ed18de-c742-4a65-c429-cb934f5a8f70"
      },
      "source": [
        "wines.head()"
      ],
      "execution_count": 3,
      "outputs": [
        {
          "output_type": "execute_result",
          "data": {
            "text/html": [
              "<div>\n",
              "<style scoped>\n",
              "    .dataframe tbody tr th:only-of-type {\n",
              "        vertical-align: middle;\n",
              "    }\n",
              "\n",
              "    .dataframe tbody tr th {\n",
              "        vertical-align: top;\n",
              "    }\n",
              "\n",
              "    .dataframe thead th {\n",
              "        text-align: right;\n",
              "    }\n",
              "</style>\n",
              "<table border=\"1\" class=\"dataframe\">\n",
              "  <thead>\n",
              "    <tr style=\"text-align: right;\">\n",
              "      <th></th>\n",
              "      <th>fixed acidity</th>\n",
              "      <th>volatile acidity</th>\n",
              "      <th>citric acid</th>\n",
              "      <th>residual sugar</th>\n",
              "      <th>chlorides</th>\n",
              "      <th>free sulfur dioxide</th>\n",
              "      <th>total sulfur dioxide</th>\n",
              "      <th>density</th>\n",
              "      <th>pH</th>\n",
              "      <th>sulphates</th>\n",
              "      <th>alcohol</th>\n",
              "      <th>quality</th>\n",
              "      <th>wine_type</th>\n",
              "      <th>quality_label</th>\n",
              "    </tr>\n",
              "  </thead>\n",
              "  <tbody>\n",
              "    <tr>\n",
              "      <th>0</th>\n",
              "      <td>7.0</td>\n",
              "      <td>0.17</td>\n",
              "      <td>0.74</td>\n",
              "      <td>12.8</td>\n",
              "      <td>0.045</td>\n",
              "      <td>24.0</td>\n",
              "      <td>126.0</td>\n",
              "      <td>0.99420</td>\n",
              "      <td>3.26</td>\n",
              "      <td>0.38</td>\n",
              "      <td>12.2</td>\n",
              "      <td>8</td>\n",
              "      <td>white</td>\n",
              "      <td>high</td>\n",
              "    </tr>\n",
              "    <tr>\n",
              "      <th>1</th>\n",
              "      <td>7.7</td>\n",
              "      <td>0.64</td>\n",
              "      <td>0.21</td>\n",
              "      <td>2.2</td>\n",
              "      <td>0.077</td>\n",
              "      <td>32.0</td>\n",
              "      <td>133.0</td>\n",
              "      <td>0.99560</td>\n",
              "      <td>3.27</td>\n",
              "      <td>0.45</td>\n",
              "      <td>9.9</td>\n",
              "      <td>5</td>\n",
              "      <td>red</td>\n",
              "      <td>low</td>\n",
              "    </tr>\n",
              "    <tr>\n",
              "      <th>2</th>\n",
              "      <td>6.8</td>\n",
              "      <td>0.39</td>\n",
              "      <td>0.34</td>\n",
              "      <td>7.4</td>\n",
              "      <td>0.020</td>\n",
              "      <td>38.0</td>\n",
              "      <td>133.0</td>\n",
              "      <td>0.99212</td>\n",
              "      <td>3.18</td>\n",
              "      <td>0.44</td>\n",
              "      <td>12.0</td>\n",
              "      <td>7</td>\n",
              "      <td>white</td>\n",
              "      <td>medium</td>\n",
              "    </tr>\n",
              "    <tr>\n",
              "      <th>3</th>\n",
              "      <td>6.3</td>\n",
              "      <td>0.28</td>\n",
              "      <td>0.47</td>\n",
              "      <td>11.2</td>\n",
              "      <td>0.040</td>\n",
              "      <td>61.0</td>\n",
              "      <td>183.0</td>\n",
              "      <td>0.99592</td>\n",
              "      <td>3.12</td>\n",
              "      <td>0.51</td>\n",
              "      <td>9.5</td>\n",
              "      <td>6</td>\n",
              "      <td>white</td>\n",
              "      <td>medium</td>\n",
              "    </tr>\n",
              "    <tr>\n",
              "      <th>4</th>\n",
              "      <td>7.4</td>\n",
              "      <td>0.35</td>\n",
              "      <td>0.20</td>\n",
              "      <td>13.9</td>\n",
              "      <td>0.054</td>\n",
              "      <td>63.0</td>\n",
              "      <td>229.0</td>\n",
              "      <td>0.99888</td>\n",
              "      <td>3.11</td>\n",
              "      <td>0.50</td>\n",
              "      <td>8.9</td>\n",
              "      <td>6</td>\n",
              "      <td>white</td>\n",
              "      <td>medium</td>\n",
              "    </tr>\n",
              "  </tbody>\n",
              "</table>\n",
              "</div>"
            ],
            "text/plain": [
              "   fixed acidity  volatile acidity  ...  wine_type  quality_label\n",
              "0            7.0              0.17  ...      white           high\n",
              "1            7.7              0.64  ...        red            low\n",
              "2            6.8              0.39  ...      white         medium\n",
              "3            6.3              0.28  ...      white         medium\n",
              "4            7.4              0.35  ...      white         medium\n",
              "\n",
              "[5 rows x 14 columns]"
            ]
          },
          "metadata": {
            "tags": []
          },
          "execution_count": 3
        }
      ]
    },
    {
      "cell_type": "markdown",
      "metadata": {
        "id": "zzCxMBaq2GH8"
      },
      "source": [
        "## 3. Descriptive summary statistics"
      ]
    },
    {
      "cell_type": "code",
      "metadata": {
        "colab": {
          "base_uri": "https://localhost:8080/",
          "height": 345
        },
        "id": "ZY-oCDkn2N4c",
        "outputId": "d5848331-1c52-4454-d607-835e8c6f128d"
      },
      "source": [
        "subset_attributes = ['residual sugar', 'total sulfur dioxide', 'sulphates', \n",
        "                     'alcohol', 'volatile acidity', 'quality']\n",
        "rs = round(red_wine[subset_attributes].describe(),2)\n",
        "ws = round(white_wine[subset_attributes].describe(),2)\n",
        "\n",
        "pd.concat([rs, ws], axis=1, keys=['Red Wine Statistics', 'White Wine Statistics'])"
      ],
      "execution_count": 4,
      "outputs": [
        {
          "output_type": "execute_result",
          "data": {
            "text/html": [
              "<div>\n",
              "<style scoped>\n",
              "    .dataframe tbody tr th:only-of-type {\n",
              "        vertical-align: middle;\n",
              "    }\n",
              "\n",
              "    .dataframe tbody tr th {\n",
              "        vertical-align: top;\n",
              "    }\n",
              "\n",
              "    .dataframe thead tr th {\n",
              "        text-align: left;\n",
              "    }\n",
              "</style>\n",
              "<table border=\"1\" class=\"dataframe\">\n",
              "  <thead>\n",
              "    <tr>\n",
              "      <th></th>\n",
              "      <th colspan=\"6\" halign=\"left\">Red Wine Statistics</th>\n",
              "      <th colspan=\"6\" halign=\"left\">White Wine Statistics</th>\n",
              "    </tr>\n",
              "    <tr>\n",
              "      <th></th>\n",
              "      <th>residual sugar</th>\n",
              "      <th>total sulfur dioxide</th>\n",
              "      <th>sulphates</th>\n",
              "      <th>alcohol</th>\n",
              "      <th>volatile acidity</th>\n",
              "      <th>quality</th>\n",
              "      <th>residual sugar</th>\n",
              "      <th>total sulfur dioxide</th>\n",
              "      <th>sulphates</th>\n",
              "      <th>alcohol</th>\n",
              "      <th>volatile acidity</th>\n",
              "      <th>quality</th>\n",
              "    </tr>\n",
              "  </thead>\n",
              "  <tbody>\n",
              "    <tr>\n",
              "      <th>count</th>\n",
              "      <td>1599.00</td>\n",
              "      <td>1599.00</td>\n",
              "      <td>1599.00</td>\n",
              "      <td>1599.00</td>\n",
              "      <td>1599.00</td>\n",
              "      <td>1599.00</td>\n",
              "      <td>4898.00</td>\n",
              "      <td>4898.00</td>\n",
              "      <td>4898.00</td>\n",
              "      <td>4898.00</td>\n",
              "      <td>4898.00</td>\n",
              "      <td>4898.00</td>\n",
              "    </tr>\n",
              "    <tr>\n",
              "      <th>mean</th>\n",
              "      <td>2.54</td>\n",
              "      <td>46.47</td>\n",
              "      <td>0.66</td>\n",
              "      <td>10.42</td>\n",
              "      <td>0.53</td>\n",
              "      <td>5.64</td>\n",
              "      <td>6.39</td>\n",
              "      <td>138.36</td>\n",
              "      <td>0.49</td>\n",
              "      <td>10.51</td>\n",
              "      <td>0.28</td>\n",
              "      <td>5.88</td>\n",
              "    </tr>\n",
              "    <tr>\n",
              "      <th>std</th>\n",
              "      <td>1.41</td>\n",
              "      <td>32.90</td>\n",
              "      <td>0.17</td>\n",
              "      <td>1.07</td>\n",
              "      <td>0.18</td>\n",
              "      <td>0.81</td>\n",
              "      <td>5.07</td>\n",
              "      <td>42.50</td>\n",
              "      <td>0.11</td>\n",
              "      <td>1.23</td>\n",
              "      <td>0.10</td>\n",
              "      <td>0.89</td>\n",
              "    </tr>\n",
              "    <tr>\n",
              "      <th>min</th>\n",
              "      <td>0.90</td>\n",
              "      <td>6.00</td>\n",
              "      <td>0.33</td>\n",
              "      <td>8.40</td>\n",
              "      <td>0.12</td>\n",
              "      <td>3.00</td>\n",
              "      <td>0.60</td>\n",
              "      <td>9.00</td>\n",
              "      <td>0.22</td>\n",
              "      <td>8.00</td>\n",
              "      <td>0.08</td>\n",
              "      <td>3.00</td>\n",
              "    </tr>\n",
              "    <tr>\n",
              "      <th>25%</th>\n",
              "      <td>1.90</td>\n",
              "      <td>22.00</td>\n",
              "      <td>0.55</td>\n",
              "      <td>9.50</td>\n",
              "      <td>0.39</td>\n",
              "      <td>5.00</td>\n",
              "      <td>1.70</td>\n",
              "      <td>108.00</td>\n",
              "      <td>0.41</td>\n",
              "      <td>9.50</td>\n",
              "      <td>0.21</td>\n",
              "      <td>5.00</td>\n",
              "    </tr>\n",
              "    <tr>\n",
              "      <th>50%</th>\n",
              "      <td>2.20</td>\n",
              "      <td>38.00</td>\n",
              "      <td>0.62</td>\n",
              "      <td>10.20</td>\n",
              "      <td>0.52</td>\n",
              "      <td>6.00</td>\n",
              "      <td>5.20</td>\n",
              "      <td>134.00</td>\n",
              "      <td>0.47</td>\n",
              "      <td>10.40</td>\n",
              "      <td>0.26</td>\n",
              "      <td>6.00</td>\n",
              "    </tr>\n",
              "    <tr>\n",
              "      <th>75%</th>\n",
              "      <td>2.60</td>\n",
              "      <td>62.00</td>\n",
              "      <td>0.73</td>\n",
              "      <td>11.10</td>\n",
              "      <td>0.64</td>\n",
              "      <td>6.00</td>\n",
              "      <td>9.90</td>\n",
              "      <td>167.00</td>\n",
              "      <td>0.55</td>\n",
              "      <td>11.40</td>\n",
              "      <td>0.32</td>\n",
              "      <td>6.00</td>\n",
              "    </tr>\n",
              "    <tr>\n",
              "      <th>max</th>\n",
              "      <td>15.50</td>\n",
              "      <td>289.00</td>\n",
              "      <td>2.00</td>\n",
              "      <td>14.90</td>\n",
              "      <td>1.58</td>\n",
              "      <td>8.00</td>\n",
              "      <td>65.80</td>\n",
              "      <td>440.00</td>\n",
              "      <td>1.08</td>\n",
              "      <td>14.20</td>\n",
              "      <td>1.10</td>\n",
              "      <td>9.00</td>\n",
              "    </tr>\n",
              "  </tbody>\n",
              "</table>\n",
              "</div>"
            ],
            "text/plain": [
              "      Red Wine Statistics                       ... White Wine Statistics         \n",
              "           residual sugar total sulfur dioxide  ...      volatile acidity  quality\n",
              "count             1599.00              1599.00  ...               4898.00  4898.00\n",
              "mean                 2.54                46.47  ...                  0.28     5.88\n",
              "std                  1.41                32.90  ...                  0.10     0.89\n",
              "min                  0.90                 6.00  ...                  0.08     3.00\n",
              "25%                  1.90                22.00  ...                  0.21     5.00\n",
              "50%                  2.20                38.00  ...                  0.26     6.00\n",
              "75%                  2.60                62.00  ...                  0.32     6.00\n",
              "max                 15.50               289.00  ...                  1.10     9.00\n",
              "\n",
              "[8 rows x 12 columns]"
            ]
          },
          "metadata": {
            "tags": []
          },
          "execution_count": 4
        }
      ]
    },
    {
      "cell_type": "markdown",
      "metadata": {
        "id": "Jgr-30yj2pAx"
      },
      "source": [
        "## 4. Univariate Analysis"
      ]
    },
    {
      "cell_type": "markdown",
      "metadata": {
        "id": "56EPxQVy97YA"
      },
      "source": [
        "#### 4.1. Histogram"
      ]
    },
    {
      "cell_type": "code",
      "metadata": {
        "id": "bQ_jQPUs2ouK"
      },
      "source": [
        "wines.hist(bins=15, color='steelblue', edgecolor='black', linewidth=1.0,\n",
        "           xlabelsize=8, ylabelsize=8, grid=False)    \n",
        "plt.tight_layout(rect=(0, 0, 1.2, 1.2))   "
      ],
      "execution_count": null,
      "outputs": []
    },
    {
      "cell_type": "markdown",
      "metadata": {
        "id": "QiD6U31m-CWF"
      },
      "source": [
        "#### 4.2. Density Plot"
      ]
    },
    {
      "cell_type": "code",
      "metadata": {
        "id": "N-e32Rth27zM"
      },
      "source": [
        "# Histogram\n",
        "fig = plt.figure(figsize = (6,4))\n",
        "title = fig.suptitle(\"Sulphates Content in Wine\", fontsize=14)\n",
        "fig.subplots_adjust(top=0.85, wspace=0.3)\n",
        "\n",
        "ax = fig.add_subplot(1,1, 1)\n",
        "ax.set_xlabel(\"Sulphates\")\n",
        "ax.set_ylabel(\"Frequency\") \n",
        "ax.text(1.2, 800, r'$\\mu$='+str(round(wines['sulphates'].mean(),2)), \n",
        "         fontsize=12)\n",
        "freq, bins, patches = ax.hist(wines['sulphates'], color='steelblue', bins=15,\n",
        "                                    edgecolor='black', linewidth=1)\n",
        "                                    \n",
        "\n",
        "# Density Plot\n",
        "fig = plt.figure(figsize = (6, 4))\n",
        "title = fig.suptitle(\"Sulphates Content in Wine\", fontsize=14)\n",
        "fig.subplots_adjust(top=0.85, wspace=0.3)\n",
        "\n",
        "ax1 = fig.add_subplot(1,1, 1)\n",
        "ax1.set_xlabel(\"Sulphates\")\n",
        "ax1.set_ylabel(\"Frequency\") \n",
        "sns.kdeplot(wines['sulphates'], ax=ax1, shade=True, color='steelblue')"
      ],
      "execution_count": null,
      "outputs": []
    },
    {
      "cell_type": "code",
      "metadata": {
        "id": "DNFoipS-3MWB"
      },
      "source": [
        "# Bar Plot\n",
        "fig = plt.figure(figsize = (6, 4))\n",
        "title = fig.suptitle(\"Wine Quality Frequency\", fontsize=14)\n",
        "fig.subplots_adjust(top=0.85, wspace=0.3)\n",
        "\n",
        "ax = fig.add_subplot(1,1, 1)\n",
        "ax.set_xlabel(\"Quality\")\n",
        "ax.set_ylabel(\"Frequency\") \n",
        "w_q = wines['quality'].value_counts()\n",
        "w_q = (list(w_q.index), list(w_q.values))\n",
        "ax.tick_params(axis='both', which='major', labelsize=8.5)\n",
        "bar = ax.bar(w_q[0], w_q[1], color='steelblue', \n",
        "        edgecolor='black', linewidth=1)"
      ],
      "execution_count": null,
      "outputs": []
    },
    {
      "cell_type": "markdown",
      "metadata": {
        "id": "RVSBTi3S3Q9h"
      },
      "source": [
        "## 5. Multivariate Analysis\n",
        "\n",
        "Check out distributions, relationships, patterns and correlations amongst attributes."
      ]
    },
    {
      "cell_type": "markdown",
      "metadata": {
        "id": "Exf3u0QM4BEh"
      },
      "source": [
        "### 5.1 Two-D"
      ]
    },
    {
      "cell_type": "markdown",
      "metadata": {
        "id": "tXtxCwl_3rFs"
      },
      "source": [
        "#### 5.1.1 Heatmap\n",
        "\n",
        "Best for correlations."
      ]
    },
    {
      "cell_type": "code",
      "metadata": {
        "id": "TX4L8GSh3UQX"
      },
      "source": [
        "# Correlation Matrix Heatmap\n",
        "f, ax = plt.subplots(figsize=(20, 10))\n",
        "corr = wines.corr()\n",
        "hm = sns.heatmap(round(corr,2), annot=True, ax=ax, cmap=\"coolwarm\",fmt='.2f',\n",
        "                 linewidths=.05)\n",
        "f.subplots_adjust(top=0.93)\n",
        "t= f.suptitle('Wine Attributes Correlation Heatmap', fontsize=14)"
      ],
      "execution_count": null,
      "outputs": []
    },
    {
      "cell_type": "markdown",
      "metadata": {
        "id": "w0_-mc7n4PlB"
      },
      "source": [
        "#### 5.1.2 Scatter Plots"
      ]
    },
    {
      "cell_type": "code",
      "metadata": {
        "id": "sFYuZeu_4PPq"
      },
      "source": [
        "# Pair-wise Scatter Plots\n",
        "cols = ['density', 'residual sugar', 'total sulfur dioxide', 'fixed acidity']\n",
        "pp = sns.pairplot(wines[cols], height=1.8, aspect=1.8,\n",
        "                  plot_kws=dict(edgecolor=\"k\", linewidth=0.5),\n",
        "                  diag_kind=\"kde\", diag_kws=dict(shade=True))\n",
        "\n",
        "fig = pp.fig \n",
        "fig.subplots_adjust(top=0.93, wspace=0.3)\n",
        "t = fig.suptitle('Wine Attributes Pairwise Plots', fontsize=14)"
      ],
      "execution_count": null,
      "outputs": []
    },
    {
      "cell_type": "markdown",
      "metadata": {
        "id": "EaoQhMPM43fP"
      },
      "source": [
        "#### 5.1.3 Parallel Coordinates\n",
        "\n",
        "A vertical line is an attribute. One complete set of connected line segments across all the attributes represents one data point.\n",
        "\n",
        "1. Density attribute: Red wines win\n",
        "\n",
        "2. Residual sugar, Total sulfur dioxide attribute: White wines win\n",
        "\n",
        "3. Fixed acidity: Red wines win"
      ]
    },
    {
      "cell_type": "code",
      "metadata": {
        "id": "_0zYALN34-Kz"
      },
      "source": [
        "# Scaling attribute values to avoid few outiers\n",
        "cols = ['density', 'residual sugar', 'total sulfur dioxide', 'fixed acidity']\n",
        "subset_df = wines[cols]\n",
        "\n",
        "from sklearn.preprocessing import StandardScaler\n",
        "ss = StandardScaler()\n",
        "\n",
        "scaled_df = ss.fit_transform(subset_df)\n",
        "scaled_df = pd.DataFrame(scaled_df, columns=cols)\n",
        "final_df = pd.concat([scaled_df, wines['wine_type']], axis=1)\n",
        "final_df.head()\n",
        "\n",
        "# plot parallel coordinates\n",
        "from pandas.plotting import parallel_coordinates\n",
        "pc = parallel_coordinates(final_df, 'wine_type', color=('#FFE888', '#FF9999'))"
      ],
      "execution_count": null,
      "outputs": []
    },
    {
      "cell_type": "markdown",
      "metadata": {
        "id": "BP3l0p7e6lla"
      },
      "source": [
        "#### 5.1.4 Scatter and Joint plots\n",
        "\n",
        "For numeric attributes.\n",
        "\n",
        "Joint plots: Draw two graphs (bivariate and univariate) in one plot."
      ]
    },
    {
      "cell_type": "code",
      "metadata": {
        "id": "P6d4k0CY6w-H"
      },
      "source": [
        "# Scatter Plot\n",
        "\n",
        "plt.scatter(wines['sulphates'], wines['alcohol'],\n",
        "            alpha=0.4, edgecolors='w')\n",
        "\n",
        "plt.xlabel('Sulphates')\n",
        "plt.ylabel('Alcohol')\n",
        "plt.title('Wine Sulphates - Alcohol Content',y=1.05)\n",
        "\n",
        "\n",
        "# Joint Plot\n",
        "jp = sns.jointplot(x='sulphates', y='alcohol', data=wines,\n",
        "                   kind='reg', space=0, size=5, ratio=4)"
      ],
      "execution_count": null,
      "outputs": []
    },
    {
      "cell_type": "markdown",
      "metadata": {
        "id": "z0T8DDDy8cV7"
      },
      "source": [
        "#### 5.1.5 Facets\n",
        "\n",
        "To visualize two different category attributes."
      ]
    },
    {
      "cell_type": "code",
      "metadata": {
        "id": "ITC4Xp9c8mqW"
      },
      "source": [
        "# Using subplots or facets along with Bar Plots\n",
        "fig = plt.figure(figsize = (10, 4))\n",
        "title = fig.suptitle(\"Wine Type - Quality\", fontsize=14)\n",
        "fig.subplots_adjust(top=0.85, wspace=0.3)\n",
        "# red wine - wine quality\n",
        "ax1 = fig.add_subplot(1,2, 1)\n",
        "ax1.set_title(\"Red Wine\")\n",
        "ax1.set_xlabel(\"Quality\")\n",
        "ax1.set_ylabel(\"Frequency\") \n",
        "rw_q = red_wine['quality'].value_counts()\n",
        "rw_q = (list(rw_q.index), list(rw_q.values))\n",
        "ax1.set_ylim([0, 2500])\n",
        "ax1.tick_params(axis='both', which='major', labelsize=8.5)\n",
        "bar1 = ax1.bar(rw_q[0], rw_q[1], color='red', \n",
        "               edgecolor='black', linewidth=1)\n",
        "\n",
        "# white wine - wine quality\n",
        "ax2 = fig.add_subplot(1,2, 2)\n",
        "ax2.set_title(\"White Wine\")\n",
        "ax2.set_xlabel(\"Quality\")\n",
        "ax2.set_ylabel(\"Frequency\") \n",
        "ww_q = white_wine['quality'].value_counts()\n",
        "ww_q = (list(ww_q.index), list(ww_q.values))\n",
        "ax2.set_ylim([0, 2500])\n",
        "ax2.tick_params(axis='both', which='major', labelsize=8.5)\n",
        "bar2 = ax2.bar(ww_q[0], ww_q[1], color='white', \n",
        "               edgecolor='black', linewidth=1)"
      ],
      "execution_count": null,
      "outputs": []
    },
    {
      "cell_type": "markdown",
      "metadata": {
        "id": "oPI8Z5La8uey"
      },
      "source": [
        "#### 5.1.6 Stacked bars\n",
        "\n",
        "A shorter code to represent the above two bar graphs"
      ]
    },
    {
      "cell_type": "code",
      "metadata": {
        "id": "bIREZUmC8_8v"
      },
      "source": [
        "# Multi-bar Plot\n",
        "cp = sns.countplot(x=\"quality\", hue=\"wine_type\", data=wines, \n",
        "                   palette={\"red\": \"#FF9999\", \"white\": \"#FFE888\"})"
      ],
      "execution_count": null,
      "outputs": []
    },
    {
      "cell_type": "markdown",
      "metadata": {
        "id": "u-F9-DbF-yRg"
      },
      "source": [
        "#### 5.1.7 Using Facets and Histograms or Density Plots"
      ]
    },
    {
      "cell_type": "code",
      "metadata": {
        "colab": {
          "base_uri": "https://localhost:8080/",
          "height": 308
        },
        "id": "JU6WXNXX_D5u",
        "outputId": "2e502588-a10a-42af-9f1f-ec375747ce72"
      },
      "source": [
        "# facets with histograms\n",
        "fig = plt.figure(figsize = (10,4))\n",
        "title = fig.suptitle(\"Sulphates Content in Wine\", fontsize=14)\n",
        "fig.subplots_adjust(top=0.85, wspace=0.3)\n",
        "\n",
        "ax1 = fig.add_subplot(1,2, 1)\n",
        "ax1.set_title(\"Red Wine\")\n",
        "ax1.set_xlabel(\"Sulphates\")\n",
        "ax1.set_ylabel(\"Frequency\") \n",
        "ax1.set_ylim([0, 1200])\n",
        "ax1.text(1.2, 800, r'$\\mu$='+str(round(red_wine['sulphates'].mean(),2)), \n",
        "         fontsize=12)\n",
        "r_freq, r_bins, r_patches = ax1.hist(red_wine['sulphates'], color='red', bins=15,\n",
        "                                     edgecolor='black', linewidth=1)\n",
        "\n",
        "ax2 = fig.add_subplot(1,2, 2)\n",
        "ax2.set_title(\"White Wine\")\n",
        "ax2.set_xlabel(\"Sulphates\")\n",
        "ax2.set_ylabel(\"Frequency\")\n",
        "ax2.set_ylim([0, 1200])\n",
        "ax2.text(0.8, 800, r'$\\mu$='+str(round(white_wine['sulphates'].mean(),2)), \n",
        "         fontsize=12)\n",
        "w_freq, w_bins, w_patches = ax2.hist(white_wine['sulphates'], color='white', bins=15,\n",
        "                                     edgecolor='black', linewidth=1)"
      ],
      "execution_count": 25,
      "outputs": [
        {
          "output_type": "display_data",
          "data": {
            "image/png": "[encoded data removed]",
            "text/plain": [
              "<Figure size 720x288 with 2 Axes>"
            ]
          },
          "metadata": {
            "tags": [],
            "needs_background": "light"
          }
        }
      ]
    },
    {
      "cell_type": "code",
      "metadata": {
        "colab": {
          "base_uri": "https://localhost:8080/",
          "height": 325
        },
        "id": "He2LYy89_MCN",
        "outputId": "cb154387-a6e0-48b2-ae0c-541d1211c9ef"
      },
      "source": [
        "# facets with density plots\n",
        "fig = plt.figure(figsize = (10, 4))\n",
        "title = fig.suptitle(\"Sulphates Content in Wine\", fontsize=14)\n",
        "fig.subplots_adjust(top=0.85, wspace=0.3)\n",
        "\n",
        "ax1 = fig.add_subplot(1,2, 1)\n",
        "ax1.set_title(\"Red Wine\")\n",
        "ax1.set_xlabel(\"Sulphates\")\n",
        "ax1.set_ylabel(\"Density\") \n",
        "sns.kdeplot(red_wine['sulphates'], ax=ax1, shade=True, color='r')\n",
        "\n",
        "ax2 = fig.add_subplot(1,2, 2)\n",
        "ax2.set_title(\"White Wine\")\n",
        "ax2.set_xlabel(\"Sulphates\")\n",
        "ax2.set_ylabel(\"Density\") \n",
        "sns.kdeplot(white_wine['sulphates'], ax=ax2, shade=True, color='y')"
      ],
      "execution_count": 26,
      "outputs": [
        {
          "output_type": "execute_result",
          "data": {
            "text/plain": [
              "<matplotlib.axes._subplots.AxesSubplot at 0x7f5c928804d0>"
            ]
          },
          "metadata": {
            "tags": []
          },
          "execution_count": 26
        },
        {
          "output_type": "display_data",
          "data": {
            "image/png": "[encoded data removed]",
            "text/plain": [
              "<Figure size 720x288 with 2 Axes>"
            ]
          },
          "metadata": {
            "tags": [],
            "needs_background": "light"
          }
        }
      ]
    },
    {
      "cell_type": "markdown",
      "metadata": {
        "id": "jN2s4iSG_ZQj"
      },
      "source": [
        "**Combining the two histograms to one**"
      ]
    },
    {
      "cell_type": "code",
      "metadata": {
        "colab": {
          "base_uri": "https://localhost:8080/",
          "height": 534
        },
        "id": "y9daNmbw_irH",
        "outputId": "0767d195-91f7-427b-d15b-58b7b2bbad0a"
      },
      "source": [
        "# Using multiple Histograms \n",
        "fig = plt.figure(figsize = (6, 4))\n",
        "title = fig.suptitle(\"Sulphates Content in Wine\", fontsize=14)\n",
        "fig.subplots_adjust(top=0.85, wspace=0.3)\n",
        "ax = fig.add_subplot(1,1, 1)\n",
        "ax.set_xlabel(\"Sulphates\")\n",
        "ax.set_ylabel(\"Frequency\") \n",
        "\n",
        "g = sns.FacetGrid(wines, hue='wine_type', palette={\"red\": \"r\", \"white\": \"y\"})\n",
        "g.map(sns.histplot, 'sulphates', kde=False, bins=15, ax=ax)\n",
        "ax.legend('Wine Type')\n",
        "# plt.close(2)"
      ],
      "execution_count": 39,
      "outputs": [
        {
          "output_type": "execute_result",
          "data": {
            "text/plain": [
              "<matplotlib.legend.Legend at 0x7f5c913489d0>"
            ]
          },
          "metadata": {
            "tags": []
          },
          "execution_count": 39
        },
        {
          "output_type": "display_data",
          "data": {
            "image/png": "[encoded data removed]",
            "text/plain": [
              "<Figure size 432x288 with 1 Axes>"
            ]
          },
          "metadata": {
            "tags": [],
            "needs_background": "light"
          }
        },
        {
          "output_type": "display_data",
          "data": {
            "image/png": "[encoded data removed]",
            "text/plain": [
              "<Figure size 216x216 with 1 Axes>"
            ]
          },
          "metadata": {
            "tags": [],
            "needs_background": "light"
          }
        }
      ]
    }
  ]
}